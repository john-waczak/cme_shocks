{
 "cells": [
  {
   "cell_type": "markdown",
   "metadata": {},
   "source": [
    "** Commence absured amount of imports!** "
   ]
  },
  {
   "cell_type": "code",
   "execution_count": 1,
   "metadata": {},
   "outputs": [],
   "source": [
    "%matplotlib notebook\n",
    "\n",
    "# standard imports \n",
    "from __future__ import division \n",
    "from __future__ import print_function \n",
    "import matplotlib.pyplot as plt \n",
    "import numpy as np \n",
    "import os \n",
    "from glob import glob "
   ]
  },
  {
   "cell_type": "code",
   "execution_count": 2,
   "metadata": {},
   "outputs": [],
   "source": [
    "# imports for playing with fits files \n",
    "from sunpy.net import Fido, attrs\n",
    "from datetime import datetime, timedelta\n",
    "import astropy.units as u \n",
    "import sunpy.map as smap \n",
    "from astropy.coordinates import SkyCoord \n",
    "from scipy.interpolate import interp1d\n",
    "from astropy.convolution import convolve, Box1DKernel"
   ]
  },
  {
   "cell_type": "code",
   "execution_count": 3,
   "metadata": {},
   "outputs": [],
   "source": [
    "from AIA_tools import simulation, analysis"
   ]
  },
  {
   "cell_type": "markdown",
   "metadata": {},
   "source": [
    "** Let's see if the sumbap function works ** "
   ]
  },
  {
   "cell_type": "code",
   "execution_count": null,
   "metadata": {},
   "outputs": [],
   "source": [
    "subMap = analysis.makeSubmap(data_maps[30], 900, -500, 1200, -200 )"
   ]
  },
  {
   "cell_type": "code",
   "execution_count": null,
   "metadata": {},
   "outputs": [],
   "source": [
    "fig = plt.figure() \n",
    "ax = plt.subplot(projection = subMap)\n",
    "subMap.plot(axes=ax) \n",
    "ax.plot_coord(radial_slits[30], color='c', linewidth=0.5)\n",
    "\n",
    "plt.show() "
   ]
  },
  {
   "cell_type": "markdown",
   "metadata": {},
   "source": [
    "** Now let's get the slit intensities ** "
   ]
  },
  {
   "cell_type": "code",
   "execution_count": null,
   "metadata": {},
   "outputs": [],
   "source": [
    "raw_slit_intensities = []\n",
    "distances = [] \n",
    "\n",
    "for i in range(len(radial_slits)): \n",
    "    intensity_along_slit, distance = analysis.getRadialSlitIntensity(radial_slits[i], data_maps[i])\n",
    "    raw_slit_intensities.append(intensity_along_slit)\n",
    "    distances.append(distance) \n",
    "    \n",
    "print(len(distances), len(raw_slit_intensities))"
   ]
  },
  {
   "cell_type": "code",
   "execution_count": null,
   "metadata": {},
   "outputs": [],
   "source": [
    "smoothed_intensities = [] \n",
    "\n",
    "for intens in raw_slit_intensities: \n",
    "        smoothed_intensities.append(analysis.smoothAndNormalizeSlit(intens)) "
   ]
  },
  {
   "cell_type": "code",
   "execution_count": null,
   "metadata": {},
   "outputs": [],
   "source": [
    "plt.figure() \n",
    "plt.plot(distances[12], smoothed_intensities[12])\n",
    "plt.xlabel('Distance [$R_\\odot$]')\n",
    "plt.ylabel('Normalized Intensity')\n",
    "plt.title('Intensity along radial slit 12')\n",
    "plt.show() "
   ]
  },
  {
   "cell_type": "markdown",
   "metadata": {},
   "source": [
    "** Now let's stack all of the slit images into a 2-d figure ** "
   ]
  },
  {
   "cell_type": "code",
   "execution_count": null,
   "metadata": {
    "scrolled": false
   },
   "outputs": [],
   "source": [
    "fig1 = plt.figure(figsize=(20,10)) \n",
    "ax1 = plt.subplot(121, projection = subMap)\n",
    "subMap.plot(cmap=plt.cm.Greys)\n",
    "ax2 = plt.subplot(122) \n",
    "ax2.plot(distances[12], smoothed_intensities[12])\n",
    "ax2.set_xlabel('x label') \n",
    "ax2.set_title('title')\n",
    "\n",
    "plt.show() "
   ]
  },
  {
   "cell_type": "code",
   "execution_count": null,
   "metadata": {},
   "outputs": [],
   "source": [
    "times = analysis.getTimes(data_maps)"
   ]
  },
  {
   "cell_type": "code",
   "execution_count": null,
   "metadata": {},
   "outputs": [],
   "source": [
    "import matplotlib.dates as mdates\n",
    "\n",
    "shape = np.shape(distances) \n",
    "distances = np.asarray(distances) \n",
    "assert(np.shape(distances) == np.shape(smoothed_intensities))\n",
    "ts = [[times[i] for i in range(shape[0])] for j in range(shape[1])]\n",
    "ts = np.asarray(ts)\n",
    "\n",
    "print(np.shape(ts), shape, np.shape(smoothed_intensities))\n",
    "\n",
    "fig, ax = plt.subplots() \n",
    "ax.pcolormesh(ts, np.transpose(distances), np.transpose(smoothed_intensities))\n",
    "fig.autofmt_xdate()\n",
    "myFmt = mdates.DateFormatter('%H:%M:%S')\n",
    "ax.xaxis.set_major_formatter(myFmt)\n",
    "plt.show() "
   ]
  },
  {
   "cell_type": "markdown",
   "metadata": {},
   "source": [
    "** try to replicate with the function ** "
   ]
  },
  {
   "cell_type": "code",
   "execution_count": null,
   "metadata": {
    "scrolled": false
   },
   "outputs": [],
   "source": [
    "import matplotlib \n",
    "fig, ax = plt.subplots()  \n",
    "analysis.plotRadialStack(times, distances, smoothed_intensities, fig, ax)\n",
    "ax.set_xlabel(\"observation time\", fontsize=18)\n",
    "ax.set_ylabel(\"Distance $[R_\\odot]$\", fontsize=18)\n",
    "ax.set_title(\"Radial Slit Intensity - 193 $\\AA$\", fontsize=18) \n",
    "matplotlib.rc('xtick', labelsize=8) \n",
    "matplotlib.rc('ytick', labelsize=8) \n",
    "\n",
    "\n",
    "\n",
    "\n",
    "\n",
    "\n",
    "plt.show() \n",
    "\n",
    "del data_maps"
   ]
  },
  {
   "cell_type": "code",
   "execution_count": null,
   "metadata": {},
   "outputs": [],
   "source": [
    "fits_193 = glob(\"/data/khnum/REU2018/jwaczak/fitsFiles/193/*.fits\")\n",
    "fits_171 = glob(\"/data/khnum/REU2018/jwaczak/fitsFiles/171/*.fits\")\n",
    "fits_211 = glob(\"/data/khnum/REU2018/jwaczak/fitsFiles/211/*.fits\")\n",
    "fits_304 = glob(\"/data/khnum/REU2018/jwaczak/fitsFiles/304/*.fits\")\n",
    "fits_335 = glob(\"/data/khnum/REU2018/jwaczak/fitsFiles/335/*.fits\")"
   ]
  },
  {
   "cell_type": "code",
   "execution_count": null,
   "metadata": {},
   "outputs": [],
   "source": [
    "x_i = 990*u.arcsec \n",
    "y_i = -450*u.arcsec \n",
    "x_f = 1200*u.arcsec \n",
    "y_f = -265*u.arcsec \n",
    "\n",
    "radial_slits_171 = [] \n",
    "radial_slits_193 = []\n",
    "radial_slits_211 = []\n",
    "radial_slits_304 = [] \n",
    "radial_slits_335 = [] \n",
    "\n",
    "assert(len(i) == len(j) for i,j in [fits_193, fits_171, fits_211, fits_304, fits_335])\n",
    "\n",
    "for i in range(len(fits_171)): \n",
    "    if i%5==0: print(i) \n",
    "    map_171 = smap.Map(fits_171[i])\n",
    "    map_193 = smap.Map(fits_193[i])\n",
    "    map_211 = smap.Map(fits_211[i])\n",
    "    map_304 = smap.Map(fits_304[i])\n",
    "    map_335 = smap.Map(fits_335[i])\n",
    "    \n",
    "    radial_slits_171.append(analysis.getRadialSlit(x_i, x_f, y_i, y_f, 200, map_171))\n",
    "    radial_slits_193.append(analysis.getRadialSlit(x_i, x_f, y_i, y_f, 200, map_193))\n",
    "    radial_slits_211.append(analysis.getRadialSlit(x_i, x_f, y_i, y_f, 200, map_211))\n",
    "    radial_slits_304.append(analysis.getRadialSlit(x_i, x_f, y_i, y_f, 200, map_304))\n",
    "    radial_slits_335.append(analysis.getRadialSlit(x_i, x_f, y_i, y_f, 200, map_335))\n",
    "    \n",
    "    del map_171\n",
    "    del map_193\n",
    "    del map_211\n",
    "    del map_304\n",
    "    del map_335"
   ]
  },
  {
   "cell_type": "code",
   "execution_count": null,
   "metadata": {},
   "outputs": [],
   "source": [
    "print(radial_slits_171)"
   ]
  },
  {
   "cell_type": "code",
   "execution_count": null,
   "metadata": {},
   "outputs": [],
   "source": [
    "slit_intensities = {'171':[], '193':[], '211':[], '304':[], '335':[]}\n",
    "distances = {'171':[], '193':[], '211':[], '304':[], '335':[]}\n",
    "\n",
    "print(len(radial_slits_171))\n",
    "for i in range(len(radial_slits_171)): \n",
    "        if i%5==0: print(i) \n",
    "        i171, d171 = analysis.getRadialSlitIntensity(radial_slits_171[i], smap.Map(fits_171[i]))\n",
    "        i193, d193 = analysis.getRadialSlitIntensity(radial_slits_193[i], smap.Map(fits_193[i]))\n",
    "        i211, d211 = analysis.getRadialSlitIntensity(radial_slits_211[i], smap.Map(fits_211[i]))\n",
    "        i304, d304 = analysis.getRadialSlitIntensity(radial_slits_304[i], smap.Map(fits_304[i]))\n",
    "        i335, d335 = analysis.getRadialSlitIntensity(radial_slits_335[i], smap.Map(fits_335[i]))\n",
    "        \n",
    "        slit_intensities['171'].append(analysis.smoothAndNormalizeSlit(i171))\n",
    "        distances['171'].append(d171)\n",
    "        \n",
    "        slit_intensities['193'].append(analysis.smoothAndNormalizeSlit(i193))\n",
    "        distances['193'].append(d193)\n",
    "        \n",
    "        slit_intensities['211'].append(analysis.smoothAndNormalizeSlit(i211))\n",
    "        distances['211'].append(d211)\n",
    "        \n",
    "        slit_intensities['304'].append(analysis.smoothAndNormalizeSlit(i304))\n",
    "        distances['304'].append(d304)\n",
    "        \n",
    "        slit_intensities['335'].append(analysis.smoothAndNormalizeSlit(i335))\n",
    "        distances['335'].append(d335)\n",
    "        \n"
   ]
  },
  {
   "cell_type": "code",
   "execution_count": null,
   "metadata": {},
   "outputs": [],
   "source": [
    "times_171 = analysis.getTimes(smap.Map(fits_171))\n",
    "times_193 = analysis.getTimes(smap.Map(fits_193))\n",
    "times_211 = analysis.getTimes(smap.Map(fits_211))\n",
    "times_304 = analysis.getTimes(smap.Map(fits_304))\n",
    "times_335 = analysis.getTimes(smap.Map(fits_335))"
   ]
  },
  {
   "cell_type": "code",
   "execution_count": null,
   "metadata": {},
   "outputs": [],
   "source": [
    "import matplotlib\n",
    "with matplotlib.pyplot.style.context((\"dark_background\")):\n",
    "    fig, ax = plt.subplots(nrows=1, ncols=5, figsize=(20,8)) \n",
    "\n",
    "    analysis.plotRadialStack(times_171, distances['171'], slit_intensities['171'], fig, ax[0])\n",
    "    ax[0].set_xlabel(\"time\", fontsize=18)\n",
    "    ax[0].set_ylabel(\"Distance $[R_\\odot]$\", fontsize=18)\n",
    "    ax[0].set_title(\"171 $\\AA$\", fontsize=18)\n",
    "\n",
    "    analysis.plotRadialStack(times_193, distances['193'], slit_intensities['193'], fig, ax[1])\n",
    "    ax[1].set_xlabel(\"time\", fontsize=18)\n",
    "    ax[1].set_ylabel(\"Distance $[R_\\odot]$\", fontsize=18)\n",
    "    ax[1].set_title(\"193 $\\AA$\", fontsize=18)\n",
    "\n",
    "    analysis.plotRadialStack(times_211, distances['211'], slit_intensities['211'], fig, ax[2])\n",
    "    ax[2].set_xlabel(\"time\", fontsize=18)\n",
    "    ax[2].set_ylabel(\"Distance $[R_\\odot]$\", fontsize=18)\n",
    "    ax[2].set_title(\"211 $\\AA$\", fontsize=18)\n",
    "\n",
    "    analysis.plotRadialStack(times_304, distances['304'], slit_intensities['304'], fig, ax[3])\n",
    "    ax[3].set_xlabel(\"time\", fontsize=18)\n",
    "    ax[3].set_ylabel(\"Distance $[R_\\odot]$\", fontsize=18)\n",
    "    ax[3].set_title(\"304 $\\AA$\", fontsize=18)\n",
    "\n",
    "    analysis.plotRadialStack(times_335, distances['335'], slit_intensities['335'], fig, ax[4])\n",
    "    ax[4].set_xlabel(\"time\", fontsize=18)\n",
    "    ax[4].set_ylabel(\"Distance $[R_\\odot]$\", fontsize=18)\n",
    "    ax[4].set_title(\"335 $\\AA$\", fontsize=18)\n",
    "  \n",
    "    plt.tight_layout()\n",
    "\n",
    "    ax[0].tick_params(axis='both', which='major', labelsize=10)\n",
    "    ax[1].tick_params(axis='both', which='major', labelsize=10)\n",
    "    ax[2].tick_params(axis='both', which='major', labelsize=10)\n",
    "    ax[3].tick_params(axis='both', which='major', labelsize=10)\n",
    "    ax[4].tick_params(axis='both', which='major', labelsize=10)\n",
    "\n",
    "    fig.suptitle('Intensity along radial slit', fontsize=18)\n",
    "    plt.subplots_adjust(top=0.85)\n",
    "    \n",
    "    plt.savefig('/data/khnum/REU2018/jwaczak/data/intensityAlongSlit.png', transparent=True)\n",
    "    plt.show() \n",
    "\n"
   ]
  },
  {
   "cell_type": "code",
   "execution_count": 6,
   "metadata": {},
   "outputs": [
    {
     "name": "stdout",
     "output_type": "stream",
     "text": [
      "Background: [42.10212355 44.31490303  9.5362187   0.99588045  0.32414652]\n",
      "(-732220831369735.0, 0.421021235508)\n",
      "(-732220831369732.8, 0.443149030324)\n",
      "(-732220831369767.6, 0.09536218704919999)\n",
      "(-732220831369776.1, 0.00995880448586)\n",
      "(-732220831369776.8, 0.00324146522877)\n"
     ]
    }
   ],
   "source": [
    "pathToBackground = '/home/john/gitRepos/REU/jwaczak/data/background.txt'\n",
    "N_w = 30\n",
    "k=1\n",
    "background_new = simulation.fitBackgroundEmissivity(pathToBackground, simulation.R_w, simulation.R_sun, N_w, k=k, R_max = 2, tol=0.01)"
   ]
  },
  {
   "cell_type": "code",
   "execution_count": null,
   "metadata": {},
   "outputs": [],
   "source": [
    "print(background_new)"
   ]
  },
  {
   "cell_type": "code",
   "execution_count": null,
   "metadata": {},
   "outputs": [],
   "source": [
    "40.0/(2*(10**8)**2*1.5*696000*(1/3600)**2*(np.pi/180)**2 * 1.5**2*10**5)"
   ]
  },
  {
   "cell_type": "code",
   "execution_count": null,
   "metadata": {},
   "outputs": [],
   "source": [
    "radii = np.loadtxt('/home/john/gitRepos/REU/jwaczak/data/initialRadii.txt', delimiter=',')"
   ]
  },
  {
   "cell_type": "code",
   "execution_count": null,
   "metadata": {},
   "outputs": [],
   "source": [
    "print(radii)\n"
   ]
  },
  {
   "cell_type": "code",
   "execution_count": 10,
   "metadata": {},
   "outputs": [
    {
     "name": "stdout",
     "output_type": "stream",
     "text": [
      "0\n"
     ]
    }
   ],
   "source": [
    "A = np.array([1, 2, 3, 4, 5, 6])\n",
    "B = 1.2\n",
    "print(analysis.getNearestValue(A, B))"
   ]
  },
  {
   "cell_type": "code",
   "execution_count": 12,
   "metadata": {},
   "outputs": [
    {
     "name": "stdout",
     "output_type": "stream",
     "text": [
      "3.14, 2.72\n"
     ]
    }
   ],
   "source": [
    "print(\"{0:.2f}, {1:.2f}\".format(3.14159, 2.71717171))"
   ]
  },
  {
   "cell_type": "code",
   "execution_count": null,
   "metadata": {},
   "outputs": [],
   "source": []
  }
 ],
 "metadata": {
  "kernelspec": {
   "display_name": "Python 2",
   "language": "python",
   "name": "python2"
  },
  "language_info": {
   "codemirror_mode": {
    "name": "ipython",
    "version": 2
   },
   "file_extension": ".py",
   "mimetype": "text/x-python",
   "name": "python",
   "nbconvert_exporter": "python",
   "pygments_lexer": "ipython2",
   "version": "2.7.15rc1"
  }
 },
 "nbformat": 4,
 "nbformat_minor": 2
}
