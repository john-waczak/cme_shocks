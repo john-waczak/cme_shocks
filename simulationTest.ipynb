{
 "cells": [
  {
   "cell_type": "code",
   "execution_count": 11,
   "metadata": {},
   "outputs": [],
   "source": [
    "%matplotlib notebook\n",
    "#%matplotlib inline\n",
    "# standard imports \n",
    "from __future__ import division \n",
    "from __future__ import print_function \n",
    "import matplotlib.pyplot as plt \n",
    "import numpy as np \n",
    "import os \n",
    "from glob import glob \n",
    "from sunpy.net import Fido, attrs\n",
    "from datetime import datetime, timedelta\n",
    "import astropy.units as u \n",
    "import sunpy.map as smap \n",
    "from astropy.coordinates import SkyCoord \n",
    "from scipy.interpolate import interp1d\n",
    "from astropy.convolution import convolve, Box1DKernel\n",
    "from datetime import datetime, timedelta\n",
    "import matplotlib.dates as mdates \n",
    "import pickle"
   ]
  },
  {
   "cell_type": "code",
   "execution_count": 12,
   "metadata": {},
   "outputs": [],
   "source": [
    "from AIA_tools import * "
   ]
  },
  {
   "cell_type": "code",
   "execution_count": 27,
   "metadata": {},
   "outputs": [
    {
     "name": "stdout",
     "output_type": "stream",
     "text": [
      "['./boxInfo_MaEtAl.pickle', './intensities_MaEtAl.pickle', './times_MaEtAl.pickle']\n"
     ]
    }
   ],
   "source": [
    "pickles = glob('./*.pickle')\n",
    "pickles = [pickles[2], pickles[0], pickles[1]]\n",
    "print(pickles) "
   ]
  },
  {
   "cell_type": "code",
   "execution_count": 33,
   "metadata": {
    "scrolled": false
   },
   "outputs": [
    {
     "name": "stdout",
     "output_type": "stream",
     "text": [
      "boxInfo\n",
      "intensities\n",
      "times\n"
     ]
    }
   ],
   "source": [
    "data = {key: None for key in ['intensities', 'times', 'boxInfo']}   \n",
    "\n",
    "count = 0 \n",
    "for key in data: \n",
    "    print(key) \n",
    "    file_ = open(pickles[count], 'r') \n",
    "    data[key] = pickle.load(file_ ) \n",
    "    count += 1\n",
    "    \n"
   ]
  },
  {
   "cell_type": "code",
   "execution_count": 34,
   "metadata": {},
   "outputs": [
    {
     "name": "stdout",
     "output_type": "stream",
     "text": [
      "{'335': [datetime.datetime(2010, 6, 13, 5, 30, 3, 600000), datetime.datetime(2010, 6, 13, 5, 30, 15, 620000), datetime.datetime(2010, 6, 13, 5, 30, 27, 600000), datetime.datetime(2010, 6, 13, 5, 30, 39, 620000), datetime.datetime(2010, 6, 13, 5, 30, 51, 600000), datetime.datetime(2010, 6, 13, 5, 31, 3, 620000), datetime.datetime(2010, 6, 13, 5, 31, 15, 600000), datetime.datetime(2010, 6, 13, 5, 31, 27, 630000), datetime.datetime(2010, 6, 13, 5, 31, 39, 600000), datetime.datetime(2010, 6, 13, 5, 31, 51, 620000), datetime.datetime(2010, 6, 13, 5, 32, 3, 600000), datetime.datetime(2010, 6, 13, 5, 32, 15, 620000), datetime.datetime(2010, 6, 13, 5, 32, 27, 630000), datetime.datetime(2010, 6, 13, 5, 32, 39, 620000), datetime.datetime(2010, 6, 13, 5, 32, 51, 630000), datetime.datetime(2010, 6, 13, 5, 33, 3, 620000), datetime.datetime(2010, 6, 13, 5, 33, 15, 600000), datetime.datetime(2010, 6, 13, 5, 33, 27, 620000), datetime.datetime(2010, 6, 13, 5, 33, 39, 600000), datetime.datetime(2010, 6, 13, 5, 33, 51, 620000), datetime.datetime(2010, 6, 13, 5, 34, 3, 600000), datetime.datetime(2010, 6, 13, 5, 34, 15, 620000), datetime.datetime(2010, 6, 13, 5, 34, 27, 610000), datetime.datetime(2010, 6, 13, 5, 34, 39, 620000), datetime.datetime(2010, 6, 13, 5, 34, 51, 600000), datetime.datetime(2010, 6, 13, 5, 35, 3, 620000), datetime.datetime(2010, 6, 13, 5, 35, 15, 600000), datetime.datetime(2010, 6, 13, 5, 35, 27, 620000), datetime.datetime(2010, 6, 13, 5, 35, 39, 630000), datetime.datetime(2010, 6, 13, 5, 35, 51, 620000), datetime.datetime(2010, 6, 13, 5, 36, 3, 600000), datetime.datetime(2010, 6, 13, 5, 36, 15, 620000), datetime.datetime(2010, 6, 13, 5, 36, 27, 600000), datetime.datetime(2010, 6, 13, 5, 36, 39, 620000), datetime.datetime(2010, 6, 13, 5, 36, 51, 600000), datetime.datetime(2010, 6, 13, 5, 37, 3, 620000), datetime.datetime(2010, 6, 13, 5, 37, 15, 600000), datetime.datetime(2010, 6, 13, 5, 37, 27, 620000), datetime.datetime(2010, 6, 13, 5, 37, 39, 600000), datetime.datetime(2010, 6, 13, 5, 37, 51, 620000), datetime.datetime(2010, 6, 13, 5, 38, 3, 600000), datetime.datetime(2010, 6, 13, 5, 38, 15, 630000), datetime.datetime(2010, 6, 13, 5, 38, 27, 630000), datetime.datetime(2010, 6, 13, 5, 38, 39, 620000), datetime.datetime(2010, 6, 13, 5, 38, 51, 600000), datetime.datetime(2010, 6, 13, 5, 39, 3, 620000), datetime.datetime(2010, 6, 13, 5, 39, 15, 600000), datetime.datetime(2010, 6, 13, 5, 39, 27, 620000), datetime.datetime(2010, 6, 13, 5, 39, 39, 600000), datetime.datetime(2010, 6, 13, 5, 39, 51, 620000), datetime.datetime(2010, 6, 13, 5, 40, 3, 600000), datetime.datetime(2010, 6, 13, 5, 40, 15, 620000), datetime.datetime(2010, 6, 13, 5, 40, 27, 600000), datetime.datetime(2010, 6, 13, 5, 40, 39, 620000), datetime.datetime(2010, 6, 13, 5, 40, 51, 600000), datetime.datetime(2010, 6, 13, 5, 41, 3, 620000), datetime.datetime(2010, 6, 13, 5, 41, 15, 600000), datetime.datetime(2010, 6, 13, 5, 41, 27, 620000), datetime.datetime(2010, 6, 13, 5, 41, 39, 630000), datetime.datetime(2010, 6, 13, 5, 41, 51, 620000), datetime.datetime(2010, 6, 13, 5, 42, 3, 600000), datetime.datetime(2010, 6, 13, 5, 42, 15, 620000), datetime.datetime(2010, 6, 13, 5, 42, 27, 630000), datetime.datetime(2010, 6, 13, 5, 42, 39, 620000), datetime.datetime(2010, 6, 13, 5, 42, 51, 600000), datetime.datetime(2010, 6, 13, 5, 43, 3, 620000), datetime.datetime(2010, 6, 13, 5, 43, 15, 600000), datetime.datetime(2010, 6, 13, 5, 43, 27, 620000), datetime.datetime(2010, 6, 13, 5, 43, 39, 600000), datetime.datetime(2010, 6, 13, 5, 43, 51, 620000), datetime.datetime(2010, 6, 13, 5, 44, 3, 600000), datetime.datetime(2010, 6, 13, 5, 44, 15, 620000), datetime.datetime(2010, 6, 13, 5, 44, 27, 630000), datetime.datetime(2010, 6, 13, 5, 44, 39, 620000), datetime.datetime(2010, 6, 13, 5, 44, 51, 600000), datetime.datetime(2010, 6, 13, 5, 45, 3, 620000), datetime.datetime(2010, 6, 13, 5, 45, 15, 600000), datetime.datetime(2010, 6, 13, 5, 45, 27, 620000), datetime.datetime(2010, 6, 13, 5, 45, 39, 630000), datetime.datetime(2010, 6, 13, 5, 45, 51, 620000), datetime.datetime(2010, 6, 13, 5, 46, 3, 600000), datetime.datetime(2010, 6, 13, 5, 46, 15, 620000), datetime.datetime(2010, 6, 13, 5, 46, 27, 630000), datetime.datetime(2010, 6, 13, 5, 46, 39, 620000), datetime.datetime(2010, 6, 13, 5, 46, 51, 610000), datetime.datetime(2010, 6, 13, 5, 47, 3, 620000), datetime.datetime(2010, 6, 13, 5, 47, 15, 620000), datetime.datetime(2010, 6, 13, 5, 47, 27, 630000), datetime.datetime(2010, 6, 13, 5, 47, 39, 600000), datetime.datetime(2010, 6, 13, 5, 47, 51, 620000), datetime.datetime(2010, 6, 13, 5, 48, 3, 600000), datetime.datetime(2010, 6, 13, 5, 48, 15, 620000), datetime.datetime(2010, 6, 13, 5, 48, 27, 630000), datetime.datetime(2010, 6, 13, 5, 48, 39, 620000), datetime.datetime(2010, 6, 13, 5, 48, 51, 620000), datetime.datetime(2010, 6, 13, 5, 49, 3, 620000), datetime.datetime(2010, 6, 13, 5, 49, 15, 600000), datetime.datetime(2010, 6, 13, 5, 49, 27, 620000), datetime.datetime(2010, 6, 13, 5, 49, 39, 630000), datetime.datetime(2010, 6, 13, 5, 49, 51, 620000)], '304': [datetime.datetime(2010, 6, 13, 5, 30, 2, 120000), datetime.datetime(2010, 6, 13, 5, 30, 14, 110000), datetime.datetime(2010, 6, 13, 5, 30, 26, 120000), datetime.datetime(2010, 6, 13, 5, 30, 38, 110000), datetime.datetime(2010, 6, 13, 5, 30, 50, 120000), datetime.datetime(2010, 6, 13, 5, 31, 2, 110000), datetime.datetime(2010, 6, 13, 5, 31, 14, 120000), datetime.datetime(2010, 6, 13, 5, 31, 26, 110000), datetime.datetime(2010, 6, 13, 5, 31, 38, 120000), datetime.datetime(2010, 6, 13, 5, 31, 50, 110000), datetime.datetime(2010, 6, 13, 5, 32, 2, 120000), datetime.datetime(2010, 6, 13, 5, 32, 14, 110000), datetime.datetime(2010, 6, 13, 5, 32, 26, 120000), datetime.datetime(2010, 6, 13, 5, 32, 38, 130000), datetime.datetime(2010, 6, 13, 5, 32, 50, 120000), datetime.datetime(2010, 6, 13, 5, 33, 2, 110000), datetime.datetime(2010, 6, 13, 5, 33, 14, 120000), datetime.datetime(2010, 6, 13, 5, 33, 26, 110000), datetime.datetime(2010, 6, 13, 5, 33, 38, 120000), datetime.datetime(2010, 6, 13, 5, 33, 50, 110000), datetime.datetime(2010, 6, 13, 5, 34, 2, 130000), datetime.datetime(2010, 6, 13, 5, 34, 14, 110000), datetime.datetime(2010, 6, 13, 5, 34, 26, 120000), datetime.datetime(2010, 6, 13, 5, 34, 38, 110000), datetime.datetime(2010, 6, 13, 5, 34, 50, 120000), datetime.datetime(2010, 6, 13, 5, 35, 2, 120000), datetime.datetime(2010, 6, 13, 5, 35, 14, 120000), datetime.datetime(2010, 6, 13, 5, 35, 26, 110000), datetime.datetime(2010, 6, 13, 5, 35, 38, 120000), datetime.datetime(2010, 6, 13, 5, 35, 50, 110000), datetime.datetime(2010, 6, 13, 5, 36, 2, 120000), datetime.datetime(2010, 6, 13, 5, 36, 14, 110000), datetime.datetime(2010, 6, 13, 5, 36, 26, 120000), datetime.datetime(2010, 6, 13, 5, 36, 38, 130000), datetime.datetime(2010, 6, 13, 5, 36, 50, 120000), datetime.datetime(2010, 6, 13, 5, 37, 2, 110000), datetime.datetime(2010, 6, 13, 5, 37, 14, 120000), datetime.datetime(2010, 6, 13, 5, 37, 26, 110000), datetime.datetime(2010, 6, 13, 5, 37, 38, 130000), datetime.datetime(2010, 6, 13, 5, 37, 50, 130000), datetime.datetime(2010, 6, 13, 5, 38, 2, 120000), datetime.datetime(2010, 6, 13, 5, 38, 14, 110000), datetime.datetime(2010, 6, 13, 5, 38, 26, 120000), datetime.datetime(2010, 6, 13, 5, 38, 38, 110000), datetime.datetime(2010, 6, 13, 5, 38, 50, 120000), datetime.datetime(2010, 6, 13, 5, 39, 2, 110000), datetime.datetime(2010, 6, 13, 5, 39, 14, 120000), datetime.datetime(2010, 6, 13, 5, 39, 26, 110000), datetime.datetime(2010, 6, 13, 5, 39, 38, 130000), datetime.datetime(2010, 6, 13, 5, 39, 50, 130000), datetime.datetime(2010, 6, 13, 5, 40, 2, 120000), datetime.datetime(2010, 6, 13, 5, 40, 14, 110000), datetime.datetime(2010, 6, 13, 5, 40, 26, 120000), datetime.datetime(2010, 6, 13, 5, 40, 38, 130000), datetime.datetime(2010, 6, 13, 5, 40, 50, 120000), datetime.datetime(2010, 6, 13, 5, 41, 2, 110000), datetime.datetime(2010, 6, 13, 5, 41, 14, 120000), datetime.datetime(2010, 6, 13, 5, 41, 26, 110000), datetime.datetime(2010, 6, 13, 5, 41, 38, 130000), datetime.datetime(2010, 6, 13, 5, 41, 50, 110000), datetime.datetime(2010, 6, 13, 5, 42, 2, 120000), datetime.datetime(2010, 6, 13, 5, 42, 14, 110000), datetime.datetime(2010, 6, 13, 5, 42, 26, 120000), datetime.datetime(2010, 6, 13, 5, 42, 38, 110000), datetime.datetime(2010, 6, 13, 5, 42, 50, 120000), datetime.datetime(2010, 6, 13, 5, 43, 2, 110000), datetime.datetime(2010, 6, 13, 5, 43, 14, 120000), datetime.datetime(2010, 6, 13, 5, 43, 26, 110000), datetime.datetime(2010, 6, 13, 5, 43, 38, 120000), datetime.datetime(2010, 6, 13, 5, 43, 50, 110000), datetime.datetime(2010, 6, 13, 5, 44, 2, 120000), datetime.datetime(2010, 6, 13, 5, 44, 14, 110000), datetime.datetime(2010, 6, 13, 5, 44, 26, 120000), datetime.datetime(2010, 6, 13, 5, 44, 38, 110000), datetime.datetime(2010, 6, 13, 5, 44, 50, 120000), datetime.datetime(2010, 6, 13, 5, 45, 2, 110000), datetime.datetime(2010, 6, 13, 5, 45, 14, 120000), datetime.datetime(2010, 6, 13, 5, 45, 26, 110000), datetime.datetime(2010, 6, 13, 5, 45, 38, 130000), datetime.datetime(2010, 6, 13, 5, 45, 50, 120000), datetime.datetime(2010, 6, 13, 5, 46, 2, 130000), datetime.datetime(2010, 6, 13, 5, 46, 14, 110000), datetime.datetime(2010, 6, 13, 5, 46, 26, 120000), datetime.datetime(2010, 6, 13, 5, 46, 38, 130000), datetime.datetime(2010, 6, 13, 5, 46, 50, 120000), datetime.datetime(2010, 6, 13, 5, 47, 2, 110000), datetime.datetime(2010, 6, 13, 5, 47, 14, 120000), datetime.datetime(2010, 6, 13, 5, 47, 26, 110000), datetime.datetime(2010, 6, 13, 5, 47, 38, 130000), datetime.datetime(2010, 6, 13, 5, 47, 50, 110000), datetime.datetime(2010, 6, 13, 5, 48, 2, 130000), datetime.datetime(2010, 6, 13, 5, 48, 14, 110000), datetime.datetime(2010, 6, 13, 5, 48, 26, 120000), datetime.datetime(2010, 6, 13, 5, 48, 38, 110000), datetime.datetime(2010, 6, 13, 5, 48, 50, 120000), datetime.datetime(2010, 6, 13, 5, 49, 2, 110000), datetime.datetime(2010, 6, 13, 5, 49, 14, 120000), datetime.datetime(2010, 6, 13, 5, 49, 26, 110000), datetime.datetime(2010, 6, 13, 5, 49, 38, 120000), datetime.datetime(2010, 6, 13, 5, 49, 50, 130000)], '171': [datetime.datetime(2010, 6, 13, 5, 30, 11, 110000), datetime.datetime(2010, 6, 13, 5, 30, 23, 120000), datetime.datetime(2010, 6, 13, 5, 30, 35, 100000), datetime.datetime(2010, 6, 13, 5, 30, 47, 130000), datetime.datetime(2010, 6, 13, 5, 30, 59, 110000), datetime.datetime(2010, 6, 13, 5, 31, 11, 120000), datetime.datetime(2010, 6, 13, 5, 31, 23, 100000), datetime.datetime(2010, 6, 13, 5, 31, 35, 130000), datetime.datetime(2010, 6, 13, 5, 31, 47, 100000), datetime.datetime(2010, 6, 13, 5, 31, 59, 120000), datetime.datetime(2010, 6, 13, 5, 32, 11, 100000), datetime.datetime(2010, 6, 13, 5, 32, 23, 120000), datetime.datetime(2010, 6, 13, 5, 32, 35, 100000), datetime.datetime(2010, 6, 13, 5, 32, 47, 130000), datetime.datetime(2010, 6, 13, 5, 32, 59, 100000), datetime.datetime(2010, 6, 13, 5, 33, 11, 120000), datetime.datetime(2010, 6, 13, 5, 33, 23, 110000), datetime.datetime(2010, 6, 13, 5, 33, 35, 130000), datetime.datetime(2010, 6, 13, 5, 33, 47, 100000), datetime.datetime(2010, 6, 13, 5, 33, 59, 130000), datetime.datetime(2010, 6, 13, 5, 34, 11, 100000), datetime.datetime(2010, 6, 13, 5, 34, 23, 120000), datetime.datetime(2010, 6, 13, 5, 34, 35, 110000), datetime.datetime(2010, 6, 13, 5, 34, 47, 130000), datetime.datetime(2010, 6, 13, 5, 34, 59, 110000), datetime.datetime(2010, 6, 13, 5, 35, 11, 120000), datetime.datetime(2010, 6, 13, 5, 35, 23, 100000), datetime.datetime(2010, 6, 13, 5, 35, 35, 130000), datetime.datetime(2010, 6, 13, 5, 35, 47, 100000), datetime.datetime(2010, 6, 13, 5, 35, 59, 120000), datetime.datetime(2010, 6, 13, 5, 36, 11, 100000), datetime.datetime(2010, 6, 13, 5, 36, 23, 120000), datetime.datetime(2010, 6, 13, 5, 36, 35, 100000), datetime.datetime(2010, 6, 13, 5, 36, 47, 120000), datetime.datetime(2010, 6, 13, 5, 36, 59, 110000), datetime.datetime(2010, 6, 13, 5, 37, 11, 120000), datetime.datetime(2010, 6, 13, 5, 37, 23, 100000), datetime.datetime(2010, 6, 13, 5, 37, 35, 130000), datetime.datetime(2010, 6, 13, 5, 37, 47, 100000), datetime.datetime(2010, 6, 13, 5, 37, 59, 120000), datetime.datetime(2010, 6, 13, 5, 38, 11, 110000), datetime.datetime(2010, 6, 13, 5, 38, 23, 120000), datetime.datetime(2010, 6, 13, 5, 38, 35, 110000), datetime.datetime(2010, 6, 13, 5, 38, 47, 130000), datetime.datetime(2010, 6, 13, 5, 38, 59, 100000), datetime.datetime(2010, 6, 13, 5, 39, 11, 120000), datetime.datetime(2010, 6, 13, 5, 39, 23, 100000), datetime.datetime(2010, 6, 13, 5, 39, 35, 130000), datetime.datetime(2010, 6, 13, 5, 39, 47, 100000), datetime.datetime(2010, 6, 13, 5, 39, 59, 120000), datetime.datetime(2010, 6, 13, 5, 40, 11, 100000), datetime.datetime(2010, 6, 13, 5, 40, 23, 120000), datetime.datetime(2010, 6, 13, 5, 40, 35, 100000), datetime.datetime(2010, 6, 13, 5, 40, 47, 130000), datetime.datetime(2010, 6, 13, 5, 40, 59, 100000), datetime.datetime(2010, 6, 13, 5, 41, 11, 120000), datetime.datetime(2010, 6, 13, 5, 41, 23, 100000), datetime.datetime(2010, 6, 13, 5, 41, 35, 130000), datetime.datetime(2010, 6, 13, 5, 41, 47, 100000), datetime.datetime(2010, 6, 13, 5, 41, 59, 120000), datetime.datetime(2010, 6, 13, 5, 42, 11, 100000), datetime.datetime(2010, 6, 13, 5, 42, 23, 120000), datetime.datetime(2010, 6, 13, 5, 42, 35, 100000), datetime.datetime(2010, 6, 13, 5, 42, 47, 130000), datetime.datetime(2010, 6, 13, 5, 42, 59, 100000), datetime.datetime(2010, 6, 13, 5, 43, 11, 120000), datetime.datetime(2010, 6, 13, 5, 43, 23, 100000), datetime.datetime(2010, 6, 13, 5, 43, 35, 130000), datetime.datetime(2010, 6, 13, 5, 43, 47, 100000), datetime.datetime(2010, 6, 13, 5, 43, 59, 120000), datetime.datetime(2010, 6, 13, 5, 44, 11, 100000), datetime.datetime(2010, 6, 13, 5, 44, 23, 120000), datetime.datetime(2010, 6, 13, 5, 44, 35, 110000), datetime.datetime(2010, 6, 13, 5, 44, 47, 130000), datetime.datetime(2010, 6, 13, 5, 44, 59, 100000), datetime.datetime(2010, 6, 13, 5, 45, 11, 120000), datetime.datetime(2010, 6, 13, 5, 45, 23, 110000), datetime.datetime(2010, 6, 13, 5, 45, 35, 130000), datetime.datetime(2010, 6, 13, 5, 45, 47, 100000), datetime.datetime(2010, 6, 13, 5, 45, 59, 130000), datetime.datetime(2010, 6, 13, 5, 46, 11, 110000), datetime.datetime(2010, 6, 13, 5, 46, 23, 120000), datetime.datetime(2010, 6, 13, 5, 46, 35, 100000), datetime.datetime(2010, 6, 13, 5, 46, 47, 130000), datetime.datetime(2010, 6, 13, 5, 46, 59, 100000), datetime.datetime(2010, 6, 13, 5, 47, 11, 120000), datetime.datetime(2010, 6, 13, 5, 47, 23, 100000), datetime.datetime(2010, 6, 13, 5, 47, 35, 130000), datetime.datetime(2010, 6, 13, 5, 47, 47, 100000), datetime.datetime(2010, 6, 13, 5, 47, 59, 130000), datetime.datetime(2010, 6, 13, 5, 48, 11, 110000), datetime.datetime(2010, 6, 13, 5, 48, 23, 120000), datetime.datetime(2010, 6, 13, 5, 48, 35, 100000), datetime.datetime(2010, 6, 13, 5, 48, 47, 130000), datetime.datetime(2010, 6, 13, 5, 48, 59, 100000), datetime.datetime(2010, 6, 13, 5, 49, 11, 120000), datetime.datetime(2010, 6, 13, 5, 49, 23, 100000), datetime.datetime(2010, 6, 13, 5, 49, 35, 130000), datetime.datetime(2010, 6, 13, 5, 49, 47, 100000), datetime.datetime(2010, 6, 13, 5, 49, 59, 130000)], '193': [datetime.datetime(2010, 6, 13, 5, 30, 6, 610000), datetime.datetime(2010, 6, 13, 5, 30, 18, 630000), datetime.datetime(2010, 6, 13, 5, 30, 30, 600000), datetime.datetime(2010, 6, 13, 5, 30, 42, 620000), datetime.datetime(2010, 6, 13, 5, 30, 54, 600000), datetime.datetime(2010, 6, 13, 5, 31, 6, 620000), datetime.datetime(2010, 6, 13, 5, 31, 18, 620000), datetime.datetime(2010, 6, 13, 5, 31, 30, 620000), datetime.datetime(2010, 6, 13, 5, 31, 42, 610000), datetime.datetime(2010, 6, 13, 5, 31, 54, 620000), datetime.datetime(2010, 6, 13, 5, 32, 6, 610000), datetime.datetime(2010, 6, 13, 5, 32, 18, 630000), datetime.datetime(2010, 6, 13, 5, 32, 30, 650000), datetime.datetime(2010, 6, 13, 5, 32, 42, 620000), datetime.datetime(2010, 6, 13, 5, 32, 54, 600000), datetime.datetime(2010, 6, 13, 5, 33, 6, 620000), datetime.datetime(2010, 6, 13, 5, 33, 18, 600000), datetime.datetime(2010, 6, 13, 5, 33, 30, 630000), datetime.datetime(2010, 6, 13, 5, 33, 42, 610000), datetime.datetime(2010, 6, 13, 5, 33, 54, 620000), datetime.datetime(2010, 6, 13, 5, 34, 6, 630000), datetime.datetime(2010, 6, 13, 5, 34, 18, 630000), datetime.datetime(2010, 6, 13, 5, 34, 30, 610000), datetime.datetime(2010, 6, 13, 5, 34, 42, 620000), datetime.datetime(2010, 6, 13, 5, 34, 54, 640000), datetime.datetime(2010, 6, 13, 5, 35, 6, 620000), datetime.datetime(2010, 6, 13, 5, 35, 18, 630000), datetime.datetime(2010, 6, 13, 5, 35, 30, 630000), datetime.datetime(2010, 6, 13, 5, 35, 42, 600000), datetime.datetime(2010, 6, 13, 5, 35, 54, 620000), datetime.datetime(2010, 6, 13, 5, 36, 6, 640000), datetime.datetime(2010, 6, 13, 5, 36, 18, 630000), datetime.datetime(2010, 6, 13, 5, 36, 30, 600000), datetime.datetime(2010, 6, 13, 5, 36, 42, 620000), datetime.datetime(2010, 6, 13, 5, 36, 54, 610000), datetime.datetime(2010, 6, 13, 5, 37, 6, 620000), datetime.datetime(2010, 6, 13, 5, 37, 18, 600000), datetime.datetime(2010, 6, 13, 5, 37, 30, 630000), datetime.datetime(2010, 6, 13, 5, 37, 42, 610000), datetime.datetime(2010, 6, 13, 5, 37, 54, 620000), datetime.datetime(2010, 6, 13, 5, 38, 6, 620000), datetime.datetime(2010, 6, 13, 5, 38, 18, 620000), datetime.datetime(2010, 6, 13, 5, 38, 30, 610000), datetime.datetime(2010, 6, 13, 5, 38, 42, 620000), datetime.datetime(2010, 6, 13, 5, 38, 54, 610000), datetime.datetime(2010, 6, 13, 5, 39, 6, 620000), datetime.datetime(2010, 6, 13, 5, 39, 18, 600000), datetime.datetime(2010, 6, 13, 5, 39, 30, 630000), datetime.datetime(2010, 6, 13, 5, 39, 42, 610000), datetime.datetime(2010, 6, 13, 5, 39, 54, 620000), datetime.datetime(2010, 6, 13, 5, 40, 6, 610000), datetime.datetime(2010, 6, 13, 5, 40, 18, 630000), datetime.datetime(2010, 6, 13, 5, 40, 30, 600000), datetime.datetime(2010, 6, 13, 5, 40, 42, 620000), datetime.datetime(2010, 6, 13, 5, 40, 54, 610000), datetime.datetime(2010, 6, 13, 5, 41, 6, 620000), datetime.datetime(2010, 6, 13, 5, 41, 18, 600000), datetime.datetime(2010, 6, 13, 5, 41, 30, 630000), datetime.datetime(2010, 6, 13, 5, 41, 42, 610000), datetime.datetime(2010, 6, 13, 5, 41, 54, 620000), datetime.datetime(2010, 6, 13, 5, 42, 6, 610000), datetime.datetime(2010, 6, 13, 5, 42, 18, 630000), datetime.datetime(2010, 6, 13, 5, 42, 30, 600000), datetime.datetime(2010, 6, 13, 5, 42, 42, 620000), datetime.datetime(2010, 6, 13, 5, 42, 54, 630000), datetime.datetime(2010, 6, 13, 5, 43, 6, 620000), datetime.datetime(2010, 6, 13, 5, 43, 18, 600000), datetime.datetime(2010, 6, 13, 5, 43, 30, 630000), datetime.datetime(2010, 6, 13, 5, 43, 42, 630000), datetime.datetime(2010, 6, 13, 5, 43, 54, 620000), datetime.datetime(2010, 6, 13, 5, 44, 6, 610000), datetime.datetime(2010, 6, 13, 5, 44, 18, 630000), datetime.datetime(2010, 6, 13, 5, 44, 30, 600000), datetime.datetime(2010, 6, 13, 5, 44, 42, 620000), datetime.datetime(2010, 6, 13, 5, 44, 54, 630000), datetime.datetime(2010, 6, 13, 5, 45, 6, 620000), datetime.datetime(2010, 6, 13, 5, 45, 18, 630000), datetime.datetime(2010, 6, 13, 5, 45, 30, 630000), datetime.datetime(2010, 6, 13, 5, 45, 42, 600000), datetime.datetime(2010, 6, 13, 5, 45, 54, 620000), datetime.datetime(2010, 6, 13, 5, 46, 6, 610000), datetime.datetime(2010, 6, 13, 5, 46, 18, 630000), datetime.datetime(2010, 6, 13, 5, 46, 30, 600000), datetime.datetime(2010, 6, 13, 5, 46, 42, 620000), datetime.datetime(2010, 6, 13, 5, 46, 54, 610000), datetime.datetime(2010, 6, 13, 5, 47, 6, 620000), datetime.datetime(2010, 6, 13, 5, 47, 18, 640000), datetime.datetime(2010, 6, 13, 5, 47, 30, 630000), datetime.datetime(2010, 6, 13, 5, 47, 42, 610000), datetime.datetime(2010, 6, 13, 5, 47, 54, 620000), datetime.datetime(2010, 6, 13, 5, 48, 6, 630000), datetime.datetime(2010, 6, 13, 5, 48, 18, 630000), datetime.datetime(2010, 6, 13, 5, 48, 30, 600000), datetime.datetime(2010, 6, 13, 5, 48, 42, 620000), datetime.datetime(2010, 6, 13, 5, 48, 54, 640000), datetime.datetime(2010, 6, 13, 5, 49, 6, 620000), datetime.datetime(2010, 6, 13, 5, 49, 18, 630000), datetime.datetime(2010, 6, 13, 5, 49, 30, 630000), datetime.datetime(2010, 6, 13, 5, 49, 42, 600000), datetime.datetime(2010, 6, 13, 5, 49, 54, 620000)], '211': [datetime.datetime(2010, 6, 13, 5, 30, 0, 620000), datetime.datetime(2010, 6, 13, 5, 30, 12, 620000), datetime.datetime(2010, 6, 13, 5, 30, 24, 620000), datetime.datetime(2010, 6, 13, 5, 30, 36, 600000), datetime.datetime(2010, 6, 13, 5, 30, 48, 630000), datetime.datetime(2010, 6, 13, 5, 31, 0, 610000), datetime.datetime(2010, 6, 13, 5, 31, 12, 620000), datetime.datetime(2010, 6, 13, 5, 31, 24, 630000), datetime.datetime(2010, 6, 13, 5, 31, 36, 620000), datetime.datetime(2010, 6, 13, 5, 31, 48, 600000), datetime.datetime(2010, 6, 13, 5, 32, 0, 620000), datetime.datetime(2010, 6, 13, 5, 32, 12, 610000), datetime.datetime(2010, 6, 13, 5, 32, 24, 630000), datetime.datetime(2010, 6, 13, 5, 32, 36, 600000), datetime.datetime(2010, 6, 13, 5, 32, 48, 620000), datetime.datetime(2010, 6, 13, 5, 33, 0, 610000), datetime.datetime(2010, 6, 13, 5, 33, 12, 620000), datetime.datetime(2010, 6, 13, 5, 33, 24, 600000), datetime.datetime(2010, 6, 13, 5, 33, 36, 620000), datetime.datetime(2010, 6, 13, 5, 33, 48, 620000), datetime.datetime(2010, 6, 13, 5, 34, 0, 620000), datetime.datetime(2010, 6, 13, 5, 34, 12, 600000), datetime.datetime(2010, 6, 13, 5, 34, 24, 620000), datetime.datetime(2010, 6, 13, 5, 34, 36, 600000), datetime.datetime(2010, 6, 13, 5, 34, 48, 630000), datetime.datetime(2010, 6, 13, 5, 35, 0, 630000), datetime.datetime(2010, 6, 13, 5, 35, 12, 620000), datetime.datetime(2010, 6, 13, 5, 35, 24, 600000), datetime.datetime(2010, 6, 13, 5, 35, 36, 620000), datetime.datetime(2010, 6, 13, 5, 35, 48, 610000), datetime.datetime(2010, 6, 13, 5, 36, 0, 620000), datetime.datetime(2010, 6, 13, 5, 36, 12, 600000), datetime.datetime(2010, 6, 13, 5, 36, 24, 630000), datetime.datetime(2010, 6, 13, 5, 36, 36, 600000), datetime.datetime(2010, 6, 13, 5, 36, 48, 630000), datetime.datetime(2010, 6, 13, 5, 37, 0, 600000), datetime.datetime(2010, 6, 13, 5, 37, 12, 620000), datetime.datetime(2010, 6, 13, 5, 37, 24, 600000), datetime.datetime(2010, 6, 13, 5, 37, 36, 630000), datetime.datetime(2010, 6, 13, 5, 37, 48, 600000), datetime.datetime(2010, 6, 13, 5, 38, 0, 620000), datetime.datetime(2010, 6, 13, 5, 38, 12, 630000), datetime.datetime(2010, 6, 13, 5, 38, 24, 620000), datetime.datetime(2010, 6, 13, 5, 38, 36, 600000), datetime.datetime(2010, 6, 13, 5, 38, 48, 630000), datetime.datetime(2010, 6, 13, 5, 39, 0, 600000), datetime.datetime(2010, 6, 13, 5, 39, 12, 620000), datetime.datetime(2010, 6, 13, 5, 39, 24, 600000), datetime.datetime(2010, 6, 13, 5, 39, 36, 630000), datetime.datetime(2010, 6, 13, 5, 39, 48, 610000), datetime.datetime(2010, 6, 13, 5, 40, 0, 620000), datetime.datetime(2010, 6, 13, 5, 40, 12, 610000), datetime.datetime(2010, 6, 13, 5, 40, 24, 620000), datetime.datetime(2010, 6, 13, 5, 40, 36, 610000), datetime.datetime(2010, 6, 13, 5, 40, 48, 630000), datetime.datetime(2010, 6, 13, 5, 41, 0, 600000), datetime.datetime(2010, 6, 13, 5, 41, 12, 620000), datetime.datetime(2010, 6, 13, 5, 41, 24, 610000), datetime.datetime(2010, 6, 13, 5, 41, 36, 640000), datetime.datetime(2010, 6, 13, 5, 41, 48, 600000), datetime.datetime(2010, 6, 13, 5, 42, 0, 620000), datetime.datetime(2010, 6, 13, 5, 42, 12, 620000), datetime.datetime(2010, 6, 13, 5, 42, 24, 620000), datetime.datetime(2010, 6, 13, 5, 42, 36, 600000), datetime.datetime(2010, 6, 13, 5, 42, 48, 630000), datetime.datetime(2010, 6, 13, 5, 43, 0, 620000), datetime.datetime(2010, 6, 13, 5, 43, 12, 620000), datetime.datetime(2010, 6, 13, 5, 43, 24, 610000), datetime.datetime(2010, 6, 13, 5, 43, 36, 640000), datetime.datetime(2010, 6, 13, 5, 43, 48, 600000), datetime.datetime(2010, 6, 13, 5, 44, 0, 620000), datetime.datetime(2010, 6, 13, 5, 44, 12, 620000), datetime.datetime(2010, 6, 13, 5, 44, 24, 620000), datetime.datetime(2010, 6, 13, 5, 44, 36, 600000), datetime.datetime(2010, 6, 13, 5, 44, 48, 630000), datetime.datetime(2010, 6, 13, 5, 45, 0, 600000), datetime.datetime(2010, 6, 13, 5, 45, 12, 620000), datetime.datetime(2010, 6, 13, 5, 45, 24, 600000), datetime.datetime(2010, 6, 13, 5, 45, 36, 640000), datetime.datetime(2010, 6, 13, 5, 45, 48, 610000), datetime.datetime(2010, 6, 13, 5, 46, 0, 630000), datetime.datetime(2010, 6, 13, 5, 46, 12, 610000), datetime.datetime(2010, 6, 13, 5, 46, 24, 620000), datetime.datetime(2010, 6, 13, 5, 46, 36, 600000), datetime.datetime(2010, 6, 13, 5, 46, 48, 630000), datetime.datetime(2010, 6, 13, 5, 47, 0, 600000), datetime.datetime(2010, 6, 13, 5, 47, 12, 620000), datetime.datetime(2010, 6, 13, 5, 47, 24, 620000), datetime.datetime(2010, 6, 13, 5, 47, 36, 620000), datetime.datetime(2010, 6, 13, 5, 47, 48, 620000), datetime.datetime(2010, 6, 13, 5, 48, 0, 630000), datetime.datetime(2010, 6, 13, 5, 48, 12, 600000), datetime.datetime(2010, 6, 13, 5, 48, 24, 620000), datetime.datetime(2010, 6, 13, 5, 48, 36, 640000), datetime.datetime(2010, 6, 13, 5, 48, 48, 630000), datetime.datetime(2010, 6, 13, 5, 49, 0, 600000), datetime.datetime(2010, 6, 13, 5, 49, 12, 620000), datetime.datetime(2010, 6, 13, 5, 49, 24, 600000), datetime.datetime(2010, 6, 13, 5, 49, 36, 640000), datetime.datetime(2010, 6, 13, 5, 49, 48, 610000)]}\n"
     ]
    }
   ],
   "source": [
    "print(data['times'])"
   ]
  },
  {
   "cell_type": "code",
   "execution_count": 35,
   "metadata": {},
   "outputs": [
    {
     "name": "stdout",
     "output_type": "stream",
     "text": [
      "2010-06-13 05:30:03.600000\n",
      "2010-06-13 05:30:15.620000\n",
      "2010-06-13 05:30:27.600000\n",
      "2010-06-13 05:30:39.620000\n",
      "2010-06-13 05:30:51.600000\n",
      "2010-06-13 05:31:03.620000\n",
      "2010-06-13 05:31:15.600000\n",
      "2010-06-13 05:31:27.630000\n",
      "2010-06-13 05:31:39.600000\n",
      "2010-06-13 05:31:51.620000\n",
      "2010-06-13 05:32:03.600000\n",
      "2010-06-13 05:32:15.620000\n",
      "2010-06-13 05:32:27.630000\n",
      "2010-06-13 05:32:39.620000\n",
      "2010-06-13 05:32:51.630000\n",
      "2010-06-13 05:33:03.620000\n",
      "2010-06-13 05:33:15.600000\n",
      "2010-06-13 05:33:27.620000\n",
      "2010-06-13 05:33:39.600000\n",
      "2010-06-13 05:33:51.620000\n",
      "2010-06-13 05:34:03.600000\n",
      "2010-06-13 05:34:15.620000\n",
      "2010-06-13 05:34:27.610000\n",
      "2010-06-13 05:34:39.620000\n",
      "2010-06-13 05:34:51.600000\n",
      "2010-06-13 05:35:03.620000\n",
      "2010-06-13 05:35:15.600000\n",
      "2010-06-13 05:35:27.620000\n",
      "2010-06-13 05:35:39.630000\n",
      "2010-06-13 05:35:51.620000\n",
      "2010-06-13 05:36:03.600000\n",
      "2010-06-13 05:36:15.620000\n",
      "2010-06-13 05:36:27.600000\n",
      "2010-06-13 05:36:39.620000\n",
      "2010-06-13 05:36:51.600000\n",
      "2010-06-13 05:37:03.620000\n",
      "2010-06-13 05:37:15.600000\n",
      "2010-06-13 05:37:27.620000\n",
      "2010-06-13 05:37:39.600000\n",
      "2010-06-13 05:37:51.620000\n",
      "2010-06-13 05:38:03.600000\n",
      "2010-06-13 05:38:15.630000\n",
      "2010-06-13 05:38:27.630000\n",
      "2010-06-13 05:38:39.620000\n",
      "2010-06-13 05:38:51.600000\n",
      "2010-06-13 05:39:03.620000\n",
      "2010-06-13 05:39:15.600000\n",
      "2010-06-13 05:39:27.620000\n",
      "2010-06-13 05:39:39.600000\n",
      "2010-06-13 05:39:51.620000\n",
      "2010-06-13 05:40:03.600000\n",
      "2010-06-13 05:40:15.620000\n",
      "2010-06-13 05:40:27.600000\n",
      "2010-06-13 05:40:39.620000\n",
      "2010-06-13 05:40:51.600000\n",
      "2010-06-13 05:41:03.620000\n",
      "2010-06-13 05:41:15.600000\n",
      "2010-06-13 05:41:27.620000\n",
      "2010-06-13 05:41:39.630000\n",
      "2010-06-13 05:41:51.620000\n",
      "2010-06-13 05:42:03.600000\n",
      "2010-06-13 05:42:15.620000\n",
      "2010-06-13 05:42:27.630000\n",
      "2010-06-13 05:42:39.620000\n",
      "2010-06-13 05:42:51.600000\n",
      "2010-06-13 05:43:03.620000\n",
      "2010-06-13 05:43:15.600000\n",
      "2010-06-13 05:43:27.620000\n",
      "2010-06-13 05:43:39.600000\n",
      "2010-06-13 05:43:51.620000\n",
      "2010-06-13 05:44:03.600000\n",
      "2010-06-13 05:44:15.620000\n",
      "2010-06-13 05:44:27.630000\n",
      "2010-06-13 05:44:39.620000\n",
      "2010-06-13 05:44:51.600000\n",
      "2010-06-13 05:45:03.620000\n",
      "2010-06-13 05:45:15.600000\n",
      "2010-06-13 05:45:27.620000\n",
      "2010-06-13 05:45:39.630000\n",
      "2010-06-13 05:45:51.620000\n",
      "2010-06-13 05:46:03.600000\n",
      "2010-06-13 05:46:15.620000\n",
      "2010-06-13 05:46:27.630000\n",
      "2010-06-13 05:46:39.620000\n",
      "2010-06-13 05:46:51.610000\n",
      "2010-06-13 05:47:03.620000\n",
      "2010-06-13 05:47:15.620000\n",
      "2010-06-13 05:47:27.630000\n",
      "2010-06-13 05:47:39.600000\n",
      "2010-06-13 05:47:51.620000\n",
      "2010-06-13 05:48:03.600000\n",
      "2010-06-13 05:48:15.620000\n",
      "2010-06-13 05:48:27.630000\n",
      "2010-06-13 05:48:39.620000\n",
      "2010-06-13 05:48:51.620000\n",
      "2010-06-13 05:49:03.620000\n",
      "2010-06-13 05:49:15.600000\n",
      "2010-06-13 05:49:27.620000\n",
      "2010-06-13 05:49:39.630000\n",
      "2010-06-13 05:49:51.620000\n"
     ]
    }
   ],
   "source": [
    "for thing in data['times']['335']:\n",
    "    print(thing)"
   ]
  },
  {
   "cell_type": "markdown",
   "metadata": {},
   "source": [
    "** get array of time steps and then create a time axis in seconds ** "
   ]
  },
  {
   "cell_type": "code",
   "execution_count": 43,
   "metadata": {},
   "outputs": [],
   "source": [
    "times = {'171':[], '193':[], '211':[], '304':[], '335':[]}\n",
    "\n",
    "for key in times:\n",
    "    # start the times at zero seconds and add that to the list \n",
    "    tot = 0.0\n",
    "    times[key].append(tot)\n",
    "    \n",
    "    # get difference and add to tot \n",
    "    for i in range(1, len(data['times'][key])): \n",
    "        t_diffs =(data['times'][key][i]-data['times'][key][i-1]).total_seconds()\n",
    "        tot += t_diffs\n",
    "        times[key].append(tot) "
   ]
  },
  {
   "cell_type": "code",
   "execution_count": 44,
   "metadata": {},
   "outputs": [
    {
     "name": "stdout",
     "output_type": "stream",
     "text": [
      "[0.0, 12.01, 23.990000000000002, 36.02, 48.0, 60.01, 71.99, 84.02, 95.99, 108.00999999999999, 119.99, 132.01, 143.98999999999998, 156.01999999999998, 167.98999999999998, 180.01, 192.0, 204.02, 215.99, 228.02, 239.99, 252.01000000000002, 264.0, 276.02, 288.0, 300.01, 311.99, 324.02, 335.99, 348.01, 359.99, 372.01, 383.99, 396.01, 408.0, 420.01, 431.99, 444.02, 455.99, 468.01, 480.0, 492.01, 504.0, 516.02, 527.99, 540.01, 551.99, 564.02, 575.99, 588.01, 599.99, 612.01, 623.99, 636.02, 647.99, 660.01, 671.99, 684.02, 695.99, 708.01, 719.99, 732.01, 743.99, 756.02, 767.99, 780.01, 791.99, 804.02, 815.99, 828.01, 839.99, 852.01, 864.0, 876.02, 887.99, 900.01, 912.0, 924.02, 935.99, 948.02, 960.0, 972.01, 983.99, 996.02, 1007.99, 1020.01, 1031.99, 1044.02, 1055.99, 1068.02, 1080.0, 1092.01, 1103.99, 1116.02, 1127.99, 1140.01, 1151.99, 1164.02, 1175.99, 1188.02]\n"
     ]
    }
   ],
   "source": [
    "print(times['171'])"
   ]
  },
  {
   "cell_type": "markdown",
   "metadata": {},
   "source": [
    "** Plot the observational data ** "
   ]
  },
  {
   "cell_type": "code",
   "execution_count": null,
   "metadata": {},
   "outputs": [],
   "source": []
  }
 ],
 "metadata": {
  "kernelspec": {
   "display_name": "Python 2",
   "language": "python",
   "name": "python2"
  },
  "language_info": {
   "codemirror_mode": {
    "name": "ipython",
    "version": 2
   },
   "file_extension": ".py",
   "mimetype": "text/x-python",
   "name": "python",
   "nbconvert_exporter": "python",
   "pygments_lexer": "ipython2",
   "version": "2.7.15"
  }
 },
 "nbformat": 4,
 "nbformat_minor": 2
}
