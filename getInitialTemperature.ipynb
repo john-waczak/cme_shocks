{
 "cells": [
  {
   "cell_type": "code",
   "execution_count": 6,
   "metadata": {},
   "outputs": [
    {
     "ename": "SyntaxError",
     "evalue": "invalid syntax (http.py, line 63)",
     "output_type": "error",
     "traceback": [
      "\u001b[0;36m  File \u001b[0;32m\"/home/john/.local/lib/python3.6/site-packages/suds/transport/http.py\"\u001b[0;36m, line \u001b[0;32m63\u001b[0m\n\u001b[0;31m    except u2.HTTPError, e:\u001b[0m\n\u001b[0m                       ^\u001b[0m\n\u001b[0;31mSyntaxError\u001b[0m\u001b[0;31m:\u001b[0m invalid syntax\n"
     ]
    }
   ],
   "source": [
    "#%matplotlib notebook\n",
    "#%matplotlib inline\n",
    "# standard imports \n",
    "from __future__ import division, print_function\n",
    "import matplotlib.pyplot as plt \n",
    "import numpy as np \n",
    "import os \n",
    "from glob import glob \n",
    "from sunpy.net import Fido, attrs\n",
    "from datetime import datetime, timedelta\n",
    "import astropy.units as u \n",
    "import sunpy.map as smap \n",
    "from astropy.coordinates import SkyCoord \n",
    "from scipy.interpolate import interp1d\n",
    "from astropy.convolution import convolve, Box1DKernel, Gaussian1DKernel\n",
    "from datetime import datetime, timedelta\n",
    "import matplotlib.dates as mdates \n",
    "from scipy.io import readsav"
   ]
  },
  {
   "cell_type": "code",
   "execution_count": 5,
   "metadata": {},
   "outputs": [
    {
     "ename": "ModuleNotFoundError",
     "evalue": "No module named 'analysis'",
     "output_type": "error",
     "traceback": [
      "\u001b[0;31m---------------------------------------------------------------------------\u001b[0m",
      "\u001b[0;31mModuleNotFoundError\u001b[0m                       Traceback (most recent call last)",
      "\u001b[0;32m<ipython-input-5-ea1bc3f1886a>\u001b[0m in \u001b[0;36m<module>\u001b[0;34m()\u001b[0m\n\u001b[0;32m----> 1\u001b[0;31m \u001b[0;32mimport\u001b[0m \u001b[0mAIA_tools\u001b[0m \u001b[0;32mas\u001b[0m \u001b[0maia\u001b[0m\u001b[0;34m\u001b[0m\u001b[0m\n\u001b[0m",
      "\u001b[0;32m/home/john/gitRepos/REU/jwaczak/cme_shocks/AIA_tools/__init__.py\u001b[0m in \u001b[0;36m<module>\u001b[0;34m()\u001b[0m\n\u001b[1;32m      5\u001b[0m \u001b[0;31m###\u001b[0m\u001b[0;34m\u001b[0m\u001b[0;34m\u001b[0m\u001b[0m\n\u001b[1;32m      6\u001b[0m \u001b[0;34m\u001b[0m\u001b[0m\n\u001b[0;32m----> 7\u001b[0;31m \u001b[0;32mfrom\u001b[0m \u001b[0mAIA_tools\u001b[0m \u001b[0;32mimport\u001b[0m \u001b[0msimulation\u001b[0m\u001b[0;34m,\u001b[0m \u001b[0manalysis\u001b[0m\u001b[0;34m,\u001b[0m \u001b[0mfitsFiles\u001b[0m\u001b[0;34m\u001b[0m\u001b[0m\n\u001b[0m",
      "\u001b[0;32m/home/john/gitRepos/REU/jwaczak/cme_shocks/AIA_tools/simulation.py\u001b[0m in \u001b[0;36m<module>\u001b[0;34m()\u001b[0m\n\u001b[1;32m     16\u001b[0m \u001b[0;32mfrom\u001b[0m \u001b[0mscipy\u001b[0m\u001b[0;34m.\u001b[0m\u001b[0mio\u001b[0m \u001b[0;32mimport\u001b[0m \u001b[0mFortranFile\u001b[0m\u001b[0;34m\u001b[0m\u001b[0m\n\u001b[1;32m     17\u001b[0m \u001b[0;32mimport\u001b[0m \u001b[0mre\u001b[0m\u001b[0;34m\u001b[0m\u001b[0m\n\u001b[0;32m---> 18\u001b[0;31m \u001b[0;32mimport\u001b[0m \u001b[0manalysis\u001b[0m\u001b[0;34m\u001b[0m\u001b[0m\n\u001b[0m\u001b[1;32m     19\u001b[0m \u001b[0;32mimport\u001b[0m \u001b[0mmultiprocessing\u001b[0m \u001b[0;32mas\u001b[0m \u001b[0mmp\u001b[0m\u001b[0;34m\u001b[0m\u001b[0m\n\u001b[1;32m     20\u001b[0m \u001b[0;34m\u001b[0m\u001b[0m\n",
      "\u001b[0;31mModuleNotFoundError\u001b[0m: No module named 'analysis'"
     ]
    }
   ],
   "source": [
    "import AIA_tools as aia"
   ]
  },
  {
   "cell_type": "markdown",
   "metadata": {},
   "source": [
    "** Read in the temperature response function ** "
   ]
  },
  {
   "cell_type": "code",
   "execution_count": null,
   "metadata": {},
   "outputs": [],
   "source": [
    "res = readsav('aia_response.sav')\n",
    "logte = res['logte']\n",
    "temps = np.power(10.0, logte)\n",
    "a94 = res['a94']\n",
    "a131 = res['a131']\n",
    "a171 = res['a171']\n",
    "a193 = res['a193']\n",
    "a211 = res['a211']\n",
    "a304 = res['a304']\n",
    "a335 = res['a335']"
   ]
  },
  {
   "cell_type": "code",
   "execution_count": null,
   "metadata": {},
   "outputs": [],
   "source": [
    "plt.figure()\n",
    "plt.plot(temps, a171, label = '171 $\\AA$')\n",
    "plt.plot(temps, a193, label = '193 $\\AA$')\n",
    "plt.plot(temps, a211, label = '211 $\\AA$')\n",
    "plt.plot(temps, a304, label = '304 $\\AA$')\n",
    "plt.plot(temps, a335, label = '335 $\\AA$')\n",
    "plt.yscale('log')\n",
    "plt.ylim((1.0e-28, 1.0e-23))\n",
    "plt.xlim(0, 5e6)\n",
    "plt.legend() \n",
    "plt.xlabel('T (K)')\n",
    "plt.ylabel('Response (DN cm$^5$ s$^{-1}$ pix$^{-1}$)')\n",
    "plt.show()"
   ]
  },
  {
   "cell_type": "markdown",
   "metadata": {},
   "source": [
    "** Load in the observation data ** "
   ]
  },
  {
   "cell_type": "code",
   "execution_count": null,
   "metadata": {},
   "outputs": [],
   "source": [
    "data = np.loadtxt('/data/khnum/REU2018/jwaczak/data/obs_data.txt', delimiter=',')\n",
    "Dt = np.abs(data[0,1:]-data[0,:-1]).mean()\n",
    "times = np.arange(0, len(data[0,:])*Dt, Dt)\n",
    "\n",
    "fig, ax = plt.subplots()\n",
    "ax.plot(times, data[1,:], label = '$171$ $\\AA$')\n",
    "ax.plot(times, data[2,:], label = '$193$ $\\AA$')\n",
    "ax.plot(times, data[3,:], label = '$211$ $\\AA$')\n",
    "ax.plot(times, data[4,:], label = '$304$ $\\AA$')\n",
    "ax.plot(times, data[5,:], label = '$335$ $\\AA$')\n",
    "ax.set_ylabel('Intensity', fontsize=18)\n",
    "ax.set_xlabel('Time [s]', fontsize=18)\n",
    "#ax.legend()\n",
    "plt.show()"
   ]
  },
  {
   "cell_type": "code",
   "execution_count": null,
   "metadata": {},
   "outputs": [],
   "source": []
  }
 ],
 "metadata": {
  "kernelspec": {
   "display_name": "Python 2",
   "language": "python",
   "name": "python2"
  },
  "language_info": {
   "codemirror_mode": {
    "name": "ipython",
    "version": 3
   },
   "file_extension": ".py",
   "mimetype": "text/x-python",
   "name": "python",
   "nbconvert_exporter": "python",
   "pygments_lexer": "ipython3",
   "version": "3.6.5"
  }
 },
 "nbformat": 4,
 "nbformat_minor": 2
}
